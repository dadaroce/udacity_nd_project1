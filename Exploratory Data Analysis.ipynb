{
 "cells": [
  {
   "cell_type": "markdown",
   "metadata": {},
   "source": [
    "# Explore the dataset\n",
    "\n",
    "\n",
    "In this notebook, we will perform an EDA (Exploratory Data Analysis) on the processed Waymo dataset (data in the `processed` folder). In the first part, you will create a function to display "
   ]
  },
  {
   "cell_type": "code",
   "execution_count": 1,
   "metadata": {},
   "outputs": [],
   "source": [
    "from utils import get_dataset\n",
    "import glob\n",
    "import matplotlib.pyplot as plt\n",
    "import matplotlib.patches as patches\n",
    "import numpy as np\n",
    "import tensorflow as tf\n",
    "\n",
    "%matplotlib inline"
   ]
  },
  {
   "cell_type": "code",
   "execution_count": null,
   "metadata": {},
   "outputs": [],
   "source": [
    "dataset = get_dataset(\"/home/workspace/data/train/*.tfrecord\")"
   ]
  },
  {
   "cell_type": "markdown",
   "metadata": {},
   "source": [
    "## Write a function to display an image and the bounding boxes\n",
    "\n",
    "Implement the `display_images` function below. This function takes a batch as an input and display an image with its corresponding bounding boxes. The only requirement is that the classes should be color coded (eg, vehicles in red, pedestrians in blue, cyclist in green)."
   ]
  },
  {
   "cell_type": "code",
   "execution_count": 3,
   "metadata": {},
   "outputs": [],
   "source": [
    "def display_instances(batch, batch_size):\n",
    "    color_map = {1: 'r', 2: 'b', 4: 'g'}\n",
    "    fig, axs = plt.subplots(10, 1, figsize=(64, 64))\n",
    "    for idx, element in enumerate(batch):\n",
    "        image = element[\"image\"].numpy()\n",
    "        width, height, _ = image.shape\n",
    "        axs[idx].imshow(image)\n",
    "        for cl, bb in zip(element['groundtruth_classes'], element['groundtruth_boxes']):\n",
    "            y1, x1, y2, x2 = bb\n",
    "            rec = plt.Rectangle((x1, y1), width, height, fill=False, color=color_map[cl.numpy()])\n",
    "            axs[idx].add_patch(rec)\n",
    "        axs[idx].axis('off')\n",
    "    plt.show()"
   ]
  },
  {
   "cell_type": "markdown",
   "metadata": {},
   "source": [
    "## Display 10 images \n",
    "\n",
    "Using the dataset created in the second cell and the function you just coded, display 10 random images with the associated bounding boxes. You can use the methods `take` and `shuffle` on the dataset."
   ]
  },
  {
   "cell_type": "code",
   "execution_count": null,
   "metadata": {},
   "outputs": [],
   "source": [
    "# Display 10 random images in dataset\n",
    "dataset = dataset.shuffle(10)\n",
    "display_instances(dataset.take(10), 10)"
   ]
  },
  {
   "cell_type": "markdown",
   "metadata": {},
   "source": [
    "## Additional EDA\n",
    "\n",
    "In this last part, you are free to perform any additional analysis of the dataset. What else would like to know about the data?\n",
    "For example, think about data distribution. So far, you have only looked at a single file..."
   ]
  },
  {
   "cell_type": "code",
   "execution_count": 5,
   "metadata": {},
   "outputs": [],
   "source": [
    "class_count = {1: 0, 2: 0, 4: 0}\n",
    "for image in dataset:\n",
    "    clss = image['groundtruth_classes']\n",
    "    for element in clss.numpy():\n",
    "        if element == 1:\n",
    "            class_count[element] += 1\n",
    "        elif  element == 2:\n",
    "            class_count[element] += 1\n",
    "        elif element == 4:\n",
    "            class_count[element] +=1\n",
    "classes_list = [\"car\", \"pedestrian\", \"bicycle\"]  \n",
    "values_list = [class_count[1], class_count[2], class_count[4]]\n",
    "fig = plt.figure(figsize = (10,5))\n",
    "plt.bar(classes_list, values_list, color='red')\n",
    "plt.xlabel(\"classes\")\n",
    "plt.ylabel(\"Number of occurence\")\n",
    "plt.title(\"Class Frecuency\")\n",
    "plt.show()"
   ]
  }
 ],
 "metadata": {
  "kernelspec": {
   "display_name": "Python 3",
   "language": "python",
   "name": "python3"
  },
  "language_info": {
   "codemirror_mode": {
    "name": "ipython",
    "version": 3
   },
   "file_extension": ".py",
   "mimetype": "text/x-python",
   "name": "python",
   "nbconvert_exporter": "python",
   "pygments_lexer": "ipython3",
   "version": "3.7.3"
  }
 },
 "nbformat": 4,
 "nbformat_minor": 4
}
